{
 "cells": [
  {
   "cell_type": "code",
   "execution_count": null,
   "metadata": {},
   "outputs": [],
   "source": [
    "import pandas as pd\n",
    "import numpy as np\n",
    "import time\n",
    "import torch\n",
    "import torch.nn as nn\n",
    "import torchvision\n",
    "import torchvision.transforms as transforms\n",
    "from sklearn.model_selection import train_test_split\n",
    "from torch.utils.data import Dataset, DataLoader\n",
    "from torch.utils.data.sampler import SubsetRandomSampler"
   ]
  },
  {
   "cell_type": "code",
   "execution_count": 29,
   "metadata": {},
   "outputs": [],
   "source": [
    "# Define a customized class for spambase data\n",
    "class MadelonDataset(Dataset):\n",
    "    \"\"\"Customized class that pre-processes spam dataset\"\"\"\n",
    "    def __init__(self, x_file, y_file):\n",
    "        \"\"\"\n",
    "        Args:\n",
    "            csv_file (string): Name of dataset file\n",
    "        \"\"\"\n",
    "        # Read in data\n",
    "        self.main = pd.read_csv(x_file, header = None,sep = '\\s+')\n",
    "        self.lab = pd.read_csv(y_file, header = None,sep = '\\s+')\n",
    "    \n",
    "    def __len__(self):\n",
    "        return len(self.main)\n",
    "\n",
    "    def __getitem__(self, idx):\n",
    "        # Get the features and make it into tensor\n",
    "        features = self.main.iloc[idx, 0:500].values\n",
    "        features = features.astype('double')\n",
    "        features = torch.from_numpy(features)\n",
    "        # Get the label\n",
    "        if self.lab.iloc[idx, 0] == -1:\n",
    "            self.lab.iloc[idx, 0] = 0\n",
    "            \n",
    "        label = self.lab.iloc[idx, 0]\n",
    "        # Combine features and label into a tuple\n",
    "        sample = (features,label)\n",
    "        return sample"
   ]
  },
  {
   "cell_type": "code",
   "execution_count": 30,
   "metadata": {},
   "outputs": [],
   "source": [
    "# Hyper-parameters \n",
    "input_size = 500\n",
    "hidden_size = 500\n",
    "num_classes = 2\n",
    "num_epochs = 5\n",
    "batch_size = 10\n",
    "learning_rate = 0.01"
   ]
  },
  {
   "cell_type": "code",
   "execution_count": 31,
   "metadata": {},
   "outputs": [],
   "source": [
    "train_dataset = MadelonDataset(\"madelon_train.data\",\"madelon_train.labels\")\n",
    "test_dataset = MadelonDataset(\"madelon_valid.data\",\"madelon_valid.labels\")\n",
    "\n",
    "# Data loader\n",
    "train_loader = torch.utils.data.DataLoader(dataset=train_dataset, \n",
    "                                           batch_size=batch_size, \n",
    "                                           shuffle=True)\n",
    "\n",
    "test_loader = torch.utils.data.DataLoader(dataset=test_dataset, \n",
    "                                          batch_size=batch_size, \n",
    "                                          shuffle=False)"
   ]
  },
  {
   "cell_type": "code",
   "execution_count": 32,
   "metadata": {},
   "outputs": [],
   "source": [
    "# Device configuration\n",
    "device = torch.device('cuda' if torch.cuda.is_available() else 'cpu') #CUDA is a GPU\n"
   ]
  },
  {
   "cell_type": "code",
   "execution_count": 33,
   "metadata": {},
   "outputs": [],
   "source": [
    "# Neural Network Class \n",
    "class NeuralNet(nn.Module):\n",
    "    \"\"\" Feedforward Neural Network with 2 hidden layers and ReLU activation function.\"\"\"\n",
    "    def __init__(self, input_size, hidden_size, num_classes):\n",
    "        super(NeuralNet, self).__init__()\n",
    "        torch.manual_seed(10) # For reproducibility\n",
    "        self.fc1 = nn.Linear(input_size, hidden_size) \n",
    "        self.relu = nn.ReLU()\n",
    "        self.fc2 = nn.Linear(hidden_size, hidden_size) \n",
    "        self.relu = nn.ReLU()\n",
    "        self.fc3 = nn.Linear(hidden_size, hidden_size)\n",
    "        self.relu = nn.ReLU()\n",
    "        self.fc4 = nn.Linear(hidden_size, num_classes)  \n",
    "    \n",
    "    def forward(self, x):\n",
    "        out = self.fc1(x)\n",
    "        out = self.relu(out)\n",
    "        out = self.fc2(out)\n",
    "        out = self.relu(out)\n",
    "        out = self.fc3(out)\n",
    "        out = self.relu(out)\n",
    "        out = self.fc4(out)\n",
    "        return out"
   ]
  },
  {
   "cell_type": "code",
   "execution_count": 34,
   "metadata": {},
   "outputs": [],
   "source": [
    "# Set model\n",
    "model = NeuralNet(input_size, hidden_size, num_classes).double().to(device)"
   ]
  },
  {
   "cell_type": "code",
   "execution_count": 35,
   "metadata": {},
   "outputs": [
    {
     "name": "stdout",
     "output_type": "stream",
     "text": [
      "Epoch: 1 , Training Loss:  79.36483975950941 , Test loss:  0.7277146871190765\n",
      "Epoch: 2 , Training Loss:  0.6951967256612925 , Test loss:  0.6933738097585008\n",
      "Epoch: 3 , Training Loss:  0.693995607916262 , Test loss:  0.6937354242506832\n",
      "Epoch: 4 , Training Loss:  0.6937024403043637 , Test loss:  0.6938521395905951\n",
      "Epoch: 5 , Training Loss:  0.6943954674343209 , Test loss:  0.6931906536266362\n",
      "Accuracy is: 50.0 %\n",
      "It takes 19.379312753677368 seconds to run Feedforward Neural Network algorithm on spambase dataset.\n"
     ]
    }
   ],
   "source": [
    "# Set loss function and optimize algorithm\n",
    "criterion = nn.CrossEntropyLoss()\n",
    "optimizer = torch.optim.Adam(model.parameters(), lr=learning_rate)  \n",
    "\n",
    "# Set start time\n",
    "start = time.time()\n",
    "\n",
    "\n",
    "for epoch in range(num_epochs):\n",
    "    train_loss, test_loss = [], []\n",
    "    correct = 0\n",
    "    total = 0\n",
    "    # Train the model\n",
    "    for i, (x, y) in enumerate(train_loader):  \n",
    "        # Move tensors to the configured device\n",
    "        x = x.to(device)\n",
    "        y = y.to(device=device, dtype=torch.int64)\n",
    "        \n",
    "        \n",
    "        # Forward pass\n",
    "        outputs = model(x)\n",
    "        loss = criterion(outputs, y)\n",
    "        \n",
    "        # Backward and optimize\n",
    "        optimizer.zero_grad()\n",
    "        loss.backward()\n",
    "        optimizer.step()\n",
    "        train_loss.append(loss.item())\n",
    "    \n",
    "    with torch.no_grad():\n",
    "        \n",
    "        # Predict the model\n",
    "        for x, y in test_loader:\n",
    "            x = x.to(device)\n",
    "            y = y.to(device)\n",
    "            outputs = model(x)\n",
    "            lose = criterion(outputs, y)\n",
    "            _, predicted = torch.max(outputs.data, 1)\n",
    "            total += y.size(0)\n",
    "            correct += (predicted == y).sum().item()\n",
    "            test_loss.append(lose.item())\n",
    "\n",
    "        print (\"Epoch:\", epoch + 1, \", Training Loss: \", np.mean(train_loss), \", Test loss: \", np.mean(test_loss))\n",
    "\n",
    "# Set end time        \n",
    "end = time.time()  \n",
    "print('Accuracy is: {} %'.format(100 * correct / total))\n",
    "print('It takes ' +  str(end - start)  + ' seconds to run Feedforward Neural Network algorithm on spambase dataset.')"
   ]
  }
 ],
 "metadata": {
  "kernelspec": {
   "display_name": "Python 3",
   "language": "python",
   "name": "python3"
  },
  "language_info": {
   "codemirror_mode": {
    "name": "ipython",
    "version": 3
   },
   "file_extension": ".py",
   "mimetype": "text/x-python",
   "name": "python",
   "nbconvert_exporter": "python",
   "pygments_lexer": "ipython3",
   "version": "3.7.1"
  }
 },
 "nbformat": 4,
 "nbformat_minor": 2
}
