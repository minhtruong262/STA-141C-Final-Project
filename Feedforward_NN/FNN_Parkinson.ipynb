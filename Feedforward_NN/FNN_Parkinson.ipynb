{
 "cells": [
  {
   "cell_type": "code",
   "execution_count": 75,
   "metadata": {},
   "outputs": [],
   "source": [
    "import pandas as pd\n",
    "import numpy as np\n",
    "import time\n",
    "import torch\n",
    "import torch.nn as nn\n",
    "import torchvision\n",
    "import torchvision.transforms as transforms\n",
    "from sklearn.model_selection import train_test_split\n",
    "from torch.utils.data import Dataset, DataLoader\n",
    "from torch.utils.data.sampler import SubsetRandomSampler"
   ]
  },
  {
   "cell_type": "code",
   "execution_count": 83,
   "metadata": {},
   "outputs": [],
   "source": [
    "# Hyper-parameters \n",
    "input_size = 753\n",
    "hidden_size = 500\n",
    "num_classes = 2\n",
    "num_epochs = 5\n",
    "batch_size = 10\n",
    "learning_rate = 0.01"
   ]
  },
  {
   "cell_type": "code",
   "execution_count": 84,
   "metadata": {},
   "outputs": [],
   "source": [
    "# Define a customized class for spambase data\n",
    "class ParkinsonDataset(Dataset):\n",
    "    \"\"\"Customized class that pre-processes parkinson dataset\"\"\"\n",
    "    def __init__(self, csv_file):\n",
    "        \"\"\"\n",
    "        Args:\n",
    "            csv_file (string): Name of dataset file\n",
    "        \"\"\"\n",
    "        # Read in data\n",
    "        self.main = pd.read_csv(csv_file)\n",
    "        \n",
    "        # Standardize data\n",
    "        m = np.mean(self.main.iloc[:,1:754].values)\n",
    "        st = np.std(self.main.iloc[:,1:754].values)\n",
    "        self.main.iloc[:,1:754] = (self.main.iloc[:,1:754]-m)/st\n",
    "\n",
    "    def __len__(self):\n",
    "        return len(self.main)\n",
    "\n",
    "    def __getitem__(self, idx):\n",
    "        # Get the features and make it into tensor\n",
    "        features = self.main.iloc[idx, 1:754].values\n",
    "        features = torch.from_numpy(features)\n",
    "        # Get the label\n",
    "        label = self.main.iloc[idx, -1]\n",
    "        # Combine features and label into a tuple\n",
    "        sample = (features,label)\n",
    "        return sample"
   ]
  },
  {
   "cell_type": "code",
   "execution_count": 85,
   "metadata": {},
   "outputs": [],
   "source": [
    "# Get dataset\n",
    "dataset = ParkinsonDataset(\"pd_speech_features.csv\")\n",
    "\n",
    "# Specify portion for splitting, shuffle data, set seed\n",
    "test_split = .2\n",
    "shuffle_dataset = True\n",
    "random_seed= 5\n",
    "\n",
    "# Creating data indices for training and testing splits\n",
    "dataset_size = len(dataset)\n",
    "indices = list(range(dataset_size))\n",
    "split = int(np.floor(test_split * dataset_size))\n",
    "if shuffle_dataset :\n",
    "    np.random.seed(random_seed)\n",
    "    np.random.shuffle(indices)\n",
    "train_indices, val_indices = indices[split:], indices[:split]\n",
    "\n",
    "# Creating data samplers and loaders\n",
    "\n",
    "train_sampler = SubsetRandomSampler(train_indices)\n",
    "test_sampler = SubsetRandomSampler(val_indices)\n",
    "\n",
    "train_loader = torch.utils.data.DataLoader(dataset, batch_size=batch_size, \n",
    "                                           sampler=train_sampler)\n",
    "test_loader = torch.utils.data.DataLoader(dataset, batch_size=batch_size,\n",
    "                                                sampler=test_sampler)"
   ]
  },
  {
   "cell_type": "code",
   "execution_count": 86,
   "metadata": {},
   "outputs": [],
   "source": [
    "# Device configuration\n",
    "device = torch.device('cuda' if torch.cuda.is_available() else 'cpu') #CUDA is a GPU\n"
   ]
  },
  {
   "cell_type": "code",
   "execution_count": 87,
   "metadata": {},
   "outputs": [],
   "source": [
    "# Neural Network Class \n",
    "class NeuralNet(nn.Module):\n",
    "    \"\"\" Feedforward Neural Network with 2 hidden layers and ReLU activation function.\"\"\"\n",
    "    def __init__(self, input_size, hidden_size, num_classes):\n",
    "        super(NeuralNet, self).__init__()\n",
    "        torch.manual_seed(7) # For reproducibility\n",
    "        self.fc1 = nn.Linear(input_size, hidden_size) \n",
    "        self.relu = nn.ReLU()\n",
    "        self.fc2 = nn.Linear(hidden_size, hidden_size) \n",
    "        self.relu = nn.ReLU()\n",
    "        self.fc3 = nn.Linear(hidden_size, num_classes)  \n",
    "    \n",
    "    def forward(self, x):\n",
    "        out = self.fc1(x)\n",
    "        out = self.relu(out)\n",
    "        out = self.fc2(out)\n",
    "        out = self.relu(out)\n",
    "        out = self.fc3(out)\n",
    "        return out"
   ]
  },
  {
   "cell_type": "code",
   "execution_count": 88,
   "metadata": {},
   "outputs": [],
   "source": [
    "# Set model\n",
    "model = NeuralNet(input_size, hidden_size, num_classes).double().to(device)"
   ]
  },
  {
   "cell_type": "code",
   "execution_count": 89,
   "metadata": {},
   "outputs": [
    {
     "name": "stdout",
     "output_type": "stream",
     "text": [
      "Epoch: 1 , Training Loss:  0.7084667956213714 , Test loss:  0.5897070544830928\n",
      "Epoch: 2 , Training Loss:  0.5634390003914759 , Test loss:  0.5887524917866995\n",
      "Epoch: 3 , Training Loss:  0.5596909758507567 , Test loss:  0.5924087495179351\n",
      "Epoch: 4 , Training Loss:  0.5621637636871739 , Test loss:  0.5894135474505721\n",
      "Epoch: 5 , Training Loss:  0.5677705401736718 , Test loss:  0.5899539104165603\n",
      "Accuracy is: 70.86092715231788 %\n",
      "It takes 10.414116144180298 seconds to run Feedforward Neural Network algorithm on parkinson dataset.\n"
     ]
    }
   ],
   "source": [
    "# Set loss function and optimize algorithm\n",
    "criterion = nn.CrossEntropyLoss()\n",
    "optimizer = torch.optim.Adam(model.parameters(), lr=learning_rate)  \n",
    "\n",
    "# Set start time\n",
    "start = time.time()\n",
    "\n",
    "\n",
    "for epoch in range(num_epochs):\n",
    "    train_loss, test_loss = [], []\n",
    "    correct = 0\n",
    "    total = 0\n",
    "    # Train the model\n",
    "    for i, (x, y) in enumerate(train_loader):  \n",
    "        # Move tensors to the configured device\n",
    "        x = x.to(device)\n",
    "        y = y.to(device)\n",
    "        \n",
    "        # Forward pass\n",
    "        outputs = model(x)\n",
    "        loss = criterion(outputs, y)\n",
    "        \n",
    "        # Backward and optimize\n",
    "        optimizer.zero_grad()\n",
    "        loss.backward()\n",
    "        optimizer.step()\n",
    "        train_loss.append(loss.item())\n",
    "    \n",
    "    with torch.no_grad():\n",
    "        \n",
    "        # Predict the model\n",
    "        for x, y in test_loader:\n",
    "            x = x.to(device)\n",
    "            y = y.to(device)\n",
    "            outputs = model(x)\n",
    "            lose = criterion(outputs, y)\n",
    "            _, predicted = torch.max(outputs.data, 1)\n",
    "            total += y.size(0)\n",
    "            correct += (predicted == y).sum().item()\n",
    "            test_loss.append(lose.item())\n",
    "\n",
    "        print (\"Epoch:\", epoch + 1, \", Training Loss: \", np.mean(train_loss), \", Test loss: \", np.mean(test_loss))\n",
    "\n",
    "# Set end time        \n",
    "end = time.time()  \n",
    "print('Accuracy is: {} %'.format(100 * correct / total))\n",
    "print('It takes ' +  str(end - start)  + ' seconds to run Feedforward Neural Network algorithm on parkinson dataset.')"
   ]
  },
  {
   "cell_type": "code",
   "execution_count": null,
   "metadata": {},
   "outputs": [],
   "source": []
  }
 ],
 "metadata": {
  "kernelspec": {
   "display_name": "Python 3",
   "language": "python",
   "name": "python3"
  },
  "language_info": {
   "codemirror_mode": {
    "name": "ipython",
    "version": 3
   },
   "file_extension": ".py",
   "mimetype": "text/x-python",
   "name": "python",
   "nbconvert_exporter": "python",
   "pygments_lexer": "ipython3",
   "version": "3.7.1"
  }
 },
 "nbformat": 4,
 "nbformat_minor": 2
}
