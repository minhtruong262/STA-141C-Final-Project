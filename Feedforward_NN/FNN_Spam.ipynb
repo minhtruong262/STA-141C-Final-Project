{
 "cells": [
  {
   "cell_type": "code",
   "execution_count": 1,
   "metadata": {},
   "outputs": [],
   "source": [
    "import pandas as pd\n",
    "import numpy as np\n",
    "import time\n",
    "import torch\n",
    "import torch.nn as nn\n",
    "import torchvision\n",
    "import torchvision.transforms as transforms\n",
    "from sklearn.model_selection import train_test_split\n",
    "from torch.utils.data import Dataset, DataLoader\n",
    "from torch.utils.data.sampler import SubsetRandomSampler"
   ]
  },
  {
   "cell_type": "code",
   "execution_count": 10,
   "metadata": {},
   "outputs": [],
   "source": [
    "# Hyper-parameters \n",
    "input_size = 57\n",
    "hidden_size = 50\n",
    "num_classes = 2\n",
    "num_epochs = 10\n",
    "batch_size = 10\n",
    "learning_rate = 0.01"
   ]
  },
  {
   "cell_type": "code",
   "execution_count": 11,
   "metadata": {},
   "outputs": [],
   "source": [
    "# Define a customized class for spambase data\n",
    "class SpamDataset(Dataset):\n",
    "    \"\"\"Customized class that pre-processes spam dataset\"\"\"\n",
    "    def __init__(self, csv_file):\n",
    "        \"\"\"\n",
    "        Args:\n",
    "            csv_file (string): Name of dataset file\n",
    "        \"\"\"\n",
    "        # Read in data\n",
    "        self.landmarks_frame = pd.read_csv(csv_file, header = None)\n",
    "        \n",
    "        # Standardize data\n",
    "        m = np.mean(self.landmarks_frame.iloc[:,0:57].values)\n",
    "        st = np.std(self.landmarks_frame.iloc[:,0:57].values)\n",
    "        self.landmarks_frame.iloc[:,0:57] = (self.landmarks_frame.iloc[:,0:57]-m)/st\n",
    "\n",
    "    def __len__(self):\n",
    "        return len(self.landmarks_frame)\n",
    "\n",
    "    def __getitem__(self, idx):\n",
    "        # Get the features and make it into tensor\n",
    "        features = self.landmarks_frame.iloc[idx, 0:57].values\n",
    "        features = torch.from_numpy(features)\n",
    "        # Get the label\n",
    "        label = self.landmarks_frame.iloc[idx, -1]\n",
    "        # Combine features and label into a tuple\n",
    "        sample = (features,label)\n",
    "        return sample"
   ]
  },
  {
   "cell_type": "code",
   "execution_count": 12,
   "metadata": {},
   "outputs": [],
   "source": [
    "# Get dataset\n",
    "dataset = SpamDataset(\"spambase.data\")\n",
    "\n",
    "# Specify portion for splitting, shuffle data, set seed\n",
    "test_split = .2\n",
    "shuffle_dataset = True\n",
    "random_seed= 5\n",
    "\n",
    "# Creating data indices for training and testing splits\n",
    "dataset_size = len(dataset)\n",
    "indices = list(range(dataset_size))\n",
    "split = int(np.floor(test_split * dataset_size))\n",
    "if shuffle_dataset :\n",
    "    np.random.seed(random_seed)\n",
    "    np.random.shuffle(indices)\n",
    "train_indices, val_indices = indices[split:], indices[:split]\n",
    "\n",
    "# Creating data samplers and loaders\n",
    "\n",
    "train_sampler = SubsetRandomSampler(train_indices)\n",
    "test_sampler = SubsetRandomSampler(val_indices)\n",
    "\n",
    "train_loader = torch.utils.data.DataLoader(dataset, batch_size=batch_size, \n",
    "                                           sampler=train_sampler)\n",
    "test_loader = torch.utils.data.DataLoader(dataset, batch_size=batch_size,\n",
    "                                                sampler=test_sampler)"
   ]
  },
  {
   "cell_type": "code",
   "execution_count": 13,
   "metadata": {},
   "outputs": [],
   "source": [
    "# Device configuration\n",
    "device = torch.device('cuda' if torch.cuda.is_available() else 'cpu') #CUDA is a GPU\n"
   ]
  },
  {
   "cell_type": "code",
   "execution_count": 14,
   "metadata": {},
   "outputs": [],
   "source": [
    "# Neural Network Class \n",
    "class NeuralNet(nn.Module):\n",
    "    \"\"\" Feedforward Neural Network with 2 hidden layers and ReLU activation function.\"\"\"\n",
    "    def __init__(self, input_size, hidden_size, num_classes):\n",
    "        super(NeuralNet, self).__init__()\n",
    "        torch.manual_seed(5) # For reproducibility\n",
    "        self.fc1 = nn.Linear(input_size, hidden_size) \n",
    "        self.relu = nn.ReLU()\n",
    "        self.fc2 = nn.Linear(hidden_size, hidden_size) \n",
    "        self.relu = nn.ReLU()\n",
    "        self.fc3 = nn.Linear(hidden_size, num_classes)  \n",
    "    \n",
    "    def forward(self, x):\n",
    "        out = self.fc1(x)\n",
    "        out = self.relu(out)\n",
    "        out = self.fc2(out)\n",
    "        out = self.relu(out)\n",
    "        out = self.fc3(out)\n",
    "        return out"
   ]
  },
  {
   "cell_type": "code",
   "execution_count": 15,
   "metadata": {},
   "outputs": [],
   "source": [
    "# Set model\n",
    "model = NeuralNet(input_size, hidden_size, num_classes).double().to(device)"
   ]
  },
  {
   "cell_type": "code",
   "execution_count": 16,
   "metadata": {},
   "outputs": [
    {
     "name": "stdout",
     "output_type": "stream",
     "text": [
      "Epoch: 1 , Training Loss:  0.547222224532694 , Test loss:  0.5069575593968506\n",
      "Epoch: 2 , Training Loss:  0.508537117995426 , Test loss:  0.5041750824499184\n",
      "Epoch: 3 , Training Loss:  0.46490058224341724 , Test loss:  0.39653794399620546\n",
      "Epoch: 4 , Training Loss:  0.4615761704231065 , Test loss:  0.4171171056570944\n",
      "Epoch: 5 , Training Loss:  0.41145923849504185 , Test loss:  0.3480778366424685\n",
      "Epoch: 6 , Training Loss:  0.3899358792005264 , Test loss:  0.32533284648955735\n",
      "Epoch: 7 , Training Loss:  0.37549482206389706 , Test loss:  0.34123323805354555\n",
      "Epoch: 8 , Training Loss:  0.34931683083690174 , Test loss:  0.3116938689326289\n",
      "Epoch: 9 , Training Loss:  0.36361249821213243 , Test loss:  0.28028305410154414\n",
      "Epoch: 10 , Training Loss:  0.3519105223014022 , Test loss:  0.2767392442515016\n",
      "Accuracy is: 88.91304347826087 %\n",
      "It takes 25.188838958740234 seconds to run Feedforward Neural Network algorithm on spambase dataset.\n"
     ]
    }
   ],
   "source": [
    "# Set loss function and optimize algorithm\n",
    "criterion = nn.CrossEntropyLoss()\n",
    "optimizer = torch.optim.Adam(model.parameters(), lr=learning_rate)  \n",
    "\n",
    "# Set start time\n",
    "start = time.time()\n",
    "\n",
    "\n",
    "for epoch in range(num_epochs):\n",
    "    train_loss, test_loss = [], []\n",
    "    correct = 0\n",
    "    total = 0\n",
    "    # Train the model\n",
    "    for i, (x, y) in enumerate(train_loader):  \n",
    "        # Move tensors to the configured device\n",
    "        x = x.to(device)\n",
    "        y = y.to(device)\n",
    "        \n",
    "        # Forward pass\n",
    "        outputs = model(x)\n",
    "        loss = criterion(outputs, y)\n",
    "        \n",
    "        # Backward and optimize\n",
    "        optimizer.zero_grad()\n",
    "        loss.backward()\n",
    "        optimizer.step()\n",
    "        train_loss.append(loss.item())\n",
    "    \n",
    "    with torch.no_grad():\n",
    "        \n",
    "        # Predict the model\n",
    "        for x, y in test_loader:\n",
    "            x = x.to(device)\n",
    "            y = y.to(device)\n",
    "            outputs = model(x)\n",
    "            lose = criterion(outputs, y)\n",
    "            _, predicted = torch.max(outputs.data, 1)\n",
    "            total += y.size(0)\n",
    "            correct += (predicted == y).sum().item()\n",
    "            test_loss.append(lose.item())\n",
    "\n",
    "        print (\"Epoch:\", epoch + 1, \", Training Loss: \", np.mean(train_loss), \", Test loss: \", np.mean(test_loss))\n",
    "\n",
    "# Set end time        \n",
    "end = time.time()  \n",
    "print('Accuracy is: {} %'.format(100 * correct / total))\n",
    "print('It takes ' +  str(end - start)  + ' seconds to run Feedforward Neural Network algorithm on spambase dataset.')"
   ]
  }
 ],
 "metadata": {
  "kernelspec": {
   "display_name": "Python 3",
   "language": "python",
   "name": "python3"
  },
  "language_info": {
   "codemirror_mode": {
    "name": "ipython",
    "version": 3
   },
   "file_extension": ".py",
   "mimetype": "text/x-python",
   "name": "python",
   "nbconvert_exporter": "python",
   "pygments_lexer": "ipython3",
   "version": "3.7.1"
  }
 },
 "nbformat": 4,
 "nbformat_minor": 2
}
