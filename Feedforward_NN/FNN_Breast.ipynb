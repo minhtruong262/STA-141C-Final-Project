{
 "cells": [
  {
   "cell_type": "code",
   "execution_count": 1,
   "metadata": {},
   "outputs": [],
   "source": [
    "import pandas as pd\n",
    "import numpy as np\n",
    "import time\n",
    "import torch\n",
    "import torch.nn as nn\n",
    "import torchvision\n",
    "import torchvision.transforms as transforms\n",
    "from sklearn.model_selection import train_test_split\n",
    "from torch.utils.data import Dataset, DataLoader\n",
    "from torch.utils.data.sampler import SubsetRandomSampler\n",
    "from sklearn.preprocessing import LabelEncoder"
   ]
  },
  {
   "cell_type": "code",
   "execution_count": 24,
   "metadata": {},
   "outputs": [],
   "source": [
    "# Hyper-parameters \n",
    "input_size = 30\n",
    "hidden_size = 20\n",
    "num_classes = 2\n",
    "num_epochs = 10\n",
    "batch_size = 100\n",
    "learning_rate = 0.001"
   ]
  },
  {
   "cell_type": "code",
   "execution_count": 25,
   "metadata": {},
   "outputs": [],
   "source": [
    "# Read in data\n",
    "df = pd.read_csv(\"wdbc.data\",header = None)\n",
    "\n",
    "# Drop patients' ID column\n",
    "df.drop(df.columns[[0]], axis=1, inplace=True)\n",
    "\n",
    "# Change categorical labels to binary labels\n",
    "categorical_features = [1]\n",
    "df[1] = LabelEncoder().fit_transform(df[1])\n"
   ]
  },
  {
   "cell_type": "code",
   "execution_count": 26,
   "metadata": {},
   "outputs": [],
   "source": [
    "# Make a class for breast cancer dataset\n",
    "class BCData(Dataset):\n",
    "    \"\"\"Customized class that pre-processes breast cancer dataset\"\"\"\n",
    "    def __init__(self, data):\n",
    "        \"\"\"\n",
    "        Args:\n",
    "            data: The breast cancer pandas dataframe \n",
    "        \"\"\"\n",
    "        self.main = data\n",
    "        self.n = len(data)\n",
    "\n",
    "    def __len__(self):\n",
    "        return self.n\n",
    "\n",
    "    def __getitem__(self, idx):\n",
    "        features = self.main.iloc[idx,1:31].values\n",
    "        features = features.astype('double')\n",
    " \n",
    "        features = torch.from_numpy(features)\n",
    "        \n",
    "            \n",
    "        label = self.main.iloc[idx,0]\n",
    "\n",
    "        sample = (features,label)\n",
    "\n",
    "\n",
    "        return sample"
   ]
  },
  {
   "cell_type": "code",
   "execution_count": 27,
   "metadata": {},
   "outputs": [],
   "source": [
    "# Get the dataset through the class\n",
    "dataset = BCData(df)"
   ]
  },
  {
   "cell_type": "code",
   "execution_count": 28,
   "metadata": {},
   "outputs": [],
   "source": [
    "# Specify portion for splitting, shuffle data, set seed\n",
    "percent_split = .2\n",
    "shuffle_dataset = True\n",
    "random_seed= 5\n",
    "\n",
    "# Creating data indices for training and testing splits\n",
    "dataset_size = len(dataset)\n",
    "indices = list(range(dataset_size))\n",
    "split = int(np.floor(percent_split * dataset_size))\n",
    "if shuffle_dataset :\n",
    "    np.random.seed(random_seed)\n",
    "    np.random.shuffle(indices)\n",
    "train_indices, val_indices = indices[split:], indices[:split]\n",
    "\n",
    "# Creating PT data samplers and loaders\n",
    "train_sampler = SubsetRandomSampler(train_indices)\n",
    "test_sampler = SubsetRandomSampler(val_indices)\n",
    "\n",
    "train_loader = torch.utils.data.DataLoader(dataset, batch_size=batch_size, \n",
    "                                           sampler=train_sampler)\n",
    "test_loader = torch.utils.data.DataLoader(dataset, batch_size=batch_size,\n",
    "                                                sampler=test_sampler)"
   ]
  },
  {
   "cell_type": "code",
   "execution_count": 29,
   "metadata": {},
   "outputs": [],
   "source": [
    "# Device configuration\n",
    "device = torch.device('cuda' if torch.cuda.is_available() else 'cpu') #CUDA is a GPU\n"
   ]
  },
  {
   "cell_type": "code",
   "execution_count": 30,
   "metadata": {},
   "outputs": [],
   "source": [
    "# Neural Network Class\n",
    "class NeuralNet(nn.Module):\n",
    "    def __init__(self, input_size, hidden_size, num_classes):\n",
    "        super(NeuralNet, self).__init__()\n",
    "        torch.manual_seed(10) # For reproducibility\n",
    "        self.fc1 = nn.Linear(input_size, hidden_size) \n",
    "        self.relu = nn.ReLU()\n",
    "        self.fc2 = nn.Linear(hidden_size, hidden_size) \n",
    "        self.relu = nn.ReLU()\n",
    "        self.fc3 = nn.Linear(hidden_size, num_classes)  \n",
    "    \n",
    "    def forward(self, x):\n",
    "        x = x.view(x.size(0), -1)\n",
    "        out = self.fc1(x)\n",
    "        out = self.relu(out)\n",
    "        out = self.fc2(out)\n",
    "        out = self.relu(out)\n",
    "        out = self.fc3(out)\n",
    "        return out"
   ]
  },
  {
   "cell_type": "code",
   "execution_count": 31,
   "metadata": {},
   "outputs": [],
   "source": [
    "# Set model\n",
    "model = NeuralNet(input_size, hidden_size, num_classes).double().to(device)"
   ]
  },
  {
   "cell_type": "code",
   "execution_count": 36,
   "metadata": {},
   "outputs": [
    {
     "name": "stdout",
     "output_type": "stream",
     "text": [
      "Epoch: 1 , Training Loss:  0.6845908738007255 , Test loss:  0.6750081612212686\n",
      "Epoch: 2 , Training Loss:  0.6727100685713361 , Test loss:  0.6615619370427674\n",
      "Epoch: 3 , Training Loss:  0.6615446190171506 , Test loss:  0.6512931140249234\n",
      "Epoch: 4 , Training Loss:  0.6508305675936852 , Test loss:  0.641615979101956\n",
      "Epoch: 5 , Training Loss:  0.6392863536993544 , Test loss:  0.6311188779016845\n",
      "Epoch: 6 , Training Loss:  0.6260670234971829 , Test loss:  0.6030209288307431\n",
      "Epoch: 7 , Training Loss:  0.6130074190977727 , Test loss:  0.5994383105527462\n",
      "Epoch: 8 , Training Loss:  0.5977328445541845 , Test loss:  0.5697127597411669\n",
      "Epoch: 9 , Training Loss:  0.5789165722592146 , Test loss:  0.5719134975230908\n",
      "Epoch: 10 , Training Loss:  0.5598552279867224 , Test loss:  0.523098688448268\n",
      "Accuracy is: 86.72566371681415 %\n",
      "It takes 2.290900945663452 seconds to run Feedforward Neural Network algorithm on breast cancer dataset.\n"
     ]
    }
   ],
   "source": [
    "# Loss and optimizer\n",
    "criterion = nn.CrossEntropyLoss()\n",
    "optimizer = torch.optim.Adam(model.parameters(), lr=learning_rate)  \n",
    "\n",
    "# Set start time\n",
    "start = time.time()\n",
    "\n",
    "\n",
    "for epoch in range(num_epochs):\n",
    "    train_loss, test_loss = [], []\n",
    "    correct = 0\n",
    "    total = 0\n",
    "    # Train the model\n",
    "    for i, (images, labels) in enumerate(train_loader):  \n",
    "        # Move tensors to the configured device\n",
    "        images = images.to(device)\n",
    "        labels = labels.to(device=device, dtype=torch.int64)\n",
    "        \n",
    "        # Forward pass\n",
    "        outputs = model(images)\n",
    "        loss = criterion(outputs, labels)\n",
    "        \n",
    "        # Backward and optimize\n",
    "        optimizer.zero_grad()\n",
    "        loss.backward()\n",
    "        optimizer.step()\n",
    "        train_loss.append(loss.item())\n",
    "    \n",
    "    with torch.no_grad():\n",
    "        \n",
    "        # Predict the model\n",
    "        for images, labels in test_loader:\n",
    "            images = images.to(device)\n",
    "            labels = labels.to(device=device, dtype=torch.int64)\n",
    "            outputs = model(images)\n",
    "            lose = criterion(outputs, labels)\n",
    "            _, predicted = torch.max(outputs.data, 1)\n",
    "            total += labels.size(0)\n",
    "            correct += (predicted == labels).sum().item()\n",
    "            test_loss.append(lose.item())\n",
    "\n",
    "        print (\"Epoch:\", epoch + 1, \", Training Loss: \", np.mean(train_loss), \", Test loss: \", np.mean(test_loss))\n",
    "\n",
    "# Set end time         \n",
    "end = time.time()  \n",
    "print('Accuracy is: {} %'.format(100 * correct / total))\n",
    "print('It takes ' +  str(end - start)  + ' seconds to run Feedforward Neural Network algorithm on breast cancer dataset.')"
   ]
  },
  {
   "cell_type": "code",
   "execution_count": null,
   "metadata": {},
   "outputs": [],
   "source": []
  },
  {
   "cell_type": "code",
   "execution_count": null,
   "metadata": {},
   "outputs": [],
   "source": []
  },
  {
   "cell_type": "code",
   "execution_count": null,
   "metadata": {},
   "outputs": [],
   "source": []
  }
 ],
 "metadata": {
  "kernelspec": {
   "display_name": "Python 3",
   "language": "python",
   "name": "python3"
  },
  "language_info": {
   "codemirror_mode": {
    "name": "ipython",
    "version": 3
   },
   "file_extension": ".py",
   "mimetype": "text/x-python",
   "name": "python",
   "nbconvert_exporter": "python",
   "pygments_lexer": "ipython3",
   "version": "3.7.1"
  }
 },
 "nbformat": 4,
 "nbformat_minor": 2
}
